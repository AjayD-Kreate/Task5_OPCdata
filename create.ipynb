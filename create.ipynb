{
 "cells": [
  {
   "cell_type": "code",
   "execution_count": 2,
   "metadata": {},
   "outputs": [
    {
     "name": "stderr",
     "output_type": "stream",
     "text": [
      "c:\\Users\\ajay.dubey\\AppData\\Local\\Programs\\Python\\Python310\\lib\\site-packages\\pandas\\io\\sql.py:761: UserWarning: pandas only support SQLAlchemy connectable(engine/connection) ordatabase string URI or sqlite3 DBAPI2 connectionother DBAPI2 objects are not tested, please consider using SQLAlchemy\n",
      "  warnings.warn(\n"
     ]
    }
   ],
   "source": [
    "import requests\n",
    "import pandas as pd\n",
    "from pandas import json_normalize\n",
    "import getdate as gd\n",
    "import requests\n",
    "import server_call as sc\n",
    "\n",
    "static_url  = 'http://portal.smartechenergy.in/client/getmeterdatadetails/212259309/'+str(gd.end_date)\n",
    "farm_id     = 76\n",
    "install_cap = pd.read_sql_query('SELECT * FROM VW_CLIENT_INSTALLED_CAPACITY',sc.connection)\n",
    "json_call   = requests.get(static_url)\n",
    "json_api    = json_call.json()\n"
   ]
  },
  {
   "cell_type": "code",
   "execution_count": null,
   "metadata": {},
   "outputs": [],
   "source": []
  }
 ],
 "metadata": {
  "kernelspec": {
   "display_name": "Python 3.10.5 64-bit",
   "language": "python",
   "name": "python3"
  },
  "language_info": {
   "codemirror_mode": {
    "name": "ipython",
    "version": 3
   },
   "file_extension": ".py",
   "mimetype": "text/x-python",
   "name": "python",
   "nbconvert_exporter": "python",
   "pygments_lexer": "ipython3",
   "version": "3.10.5"
  },
  "orig_nbformat": 4,
  "vscode": {
   "interpreter": {
    "hash": "c41a08677706ade49e3fdcdf8b8659f8477d4ac7a7a6a501c2afdee350bd3419"
   }
  }
 },
 "nbformat": 4,
 "nbformat_minor": 2
}
